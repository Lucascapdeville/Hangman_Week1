{
 "cells": [
  {
   "cell_type": "markdown",
   "id": "da4c4699",
   "metadata": {},
   "source": [
    "##Pseudo Code\n",
    "Criar Dicionario de palavras\n",
    "Gerar uma palavra(string)\n",
    "Pedir um input de letra\n",
    "Checar se a letra está presente (regex?)\n",
    "Caso acerta retorna adicione a letra ao string modificado (___A___)\n",
    "Caso erre adicionar um contador\n",
    "Se contador chegar em 5\n",
    "Perdeu o jogo\n",
    "Se completar a sting\n",
    "Ganhou o jogo\n",
    "\n",
    "Complemento\n",
    "Adicionar Dicionario aurelio\n",
    "Jogadores\n",
    "Idioma\n",
    "PvP\n",
    "Verificar se a palavra existe\n",
    "Múltiplos round com pontuação"
   ]
  },
  {
   "cell_type": "markdown",
   "id": "7948ca7b",
   "metadata": {},
   "source": [
    "Fazendo o esboço do codigo sem output para o usuario"
   ]
  },
  {
   "cell_type": "code",
   "execution_count": 71,
   "id": "67e599b8",
   "metadata": {
    "ExecuteTime": {
     "end_time": "2022-08-13T12:27:06.958131Z",
     "start_time": "2022-08-13T12:26:58.739662Z"
    }
   },
   "outputs": [
    {
     "name": "stdout",
     "output_type": "stream",
     "text": [
      "Escolha o palpite para letraa\n",
      "Escolha o palpite para letrab\n",
      "voce errou\n",
      "Escolha o palpite para letras\n",
      "voce errou\n",
      "Escolha o palpite para letraz\n",
      "voce errou\n",
      "Escolha o palpite para letraf\n",
      "voce errou\n",
      "Escolha o palpite para letrag\n",
      "voce errou\n",
      "Escolha o palpite para letrah\n",
      "voce errou\n",
      "Escolha o palpite para letraq\n",
      "voce errou\n"
     ]
    }
   ],
   "source": [
    "import random\n",
    "\n",
    "contador_erros = 0\n",
    "dic_hangman = ['Bola','Gato','Nariz','Cafe']\n",
    "hangman_word = dic_hangman[random.randint(0,len(dic_hangman)-1)]\n",
    "palpite_letra = input('Escolha o palpite para letra')\n",
    "while contador_erros <= 6:\n",
    "    palpite_letra = input('Escolha o palpite para letra')\n",
    "    if hangman_word.find(palpite_letra) >= 0:\n",
    "        print('voce acertou')\n",
    "    elif hangman_word.find(palpite_letra) == -1:\n",
    "        contador_erros += 1\n",
    "        print('voce errou')\n",
    "\n"
   ]
  },
  {
   "cell_type": "markdown",
   "id": "77c31714",
   "metadata": {},
   "source": [
    "O codigo está funcional mas rudimentar, adicionameros output para usuario"
   ]
  },
  {
   "cell_type": "code",
   "execution_count": 108,
   "id": "7d69efb7",
   "metadata": {
    "ExecuteTime": {
     "end_time": "2022-08-13T12:46:05.800093Z",
     "start_time": "2022-08-13T12:45:41.455950Z"
    }
   },
   "outputs": [
    {
     "name": "stdout",
     "output_type": "stream",
     "text": [
      "Escolha o palpite para letraa\n",
      "voce acertou\n",
      "_a___\n",
      "Escolha o palpite para letran\n",
      "voce errou\n",
      "Escolha o palpite para letraN\n",
      "voce acertou\n",
      "Na___\n",
      "Escolha o palpite para letrar\n",
      "voce acertou\n",
      "Nar__\n",
      "Escolha o palpite para letrai\n",
      "voce acertou\n",
      "Nari_\n",
      "Escolha o palpite para letraz\n",
      "voce acertou\n",
      "Nariz\n",
      "Escolha o palpite para letra\n",
      "voce acertou\n",
      "ariz\n",
      "Escolha o palpite para letra\n",
      "voce acertou\n",
      "riz\n",
      "Escolha o palpite para letra\n",
      "voce acertou\n",
      "iz\n",
      "Escolha o palpite para letra\n",
      "voce acertou\n",
      "z\n",
      "Escolha o palpite para letra\n",
      "voce acertou\n",
      "\n",
      "Escolha o palpite para letra\n",
      "voce acertou\n",
      "\n",
      "Escolha o palpite para letra\n",
      "voce acertou\n",
      "\n",
      "Escolha o palpite para letra\n",
      "voce acertou\n",
      "\n",
      "Escolha o palpite para letra\n",
      "voce acertou\n",
      "\n",
      "Escolha o palpite para letra\n",
      "voce acertou\n",
      "\n",
      "Escolha o palpite para letra\n",
      "voce acertou\n",
      "\n",
      "Escolha o palpite para letra\n",
      "voce acertou\n",
      "\n",
      "Escolha o palpite para letra\n",
      "voce acertou\n",
      "\n",
      "Escolha o palpite para letra\n",
      "voce acertou\n",
      "\n",
      "Escolha o palpite para letra\n",
      "voce acertou\n",
      "\n",
      "Escolha o palpite para letrab\n",
      "voce errou\n",
      "Escolha o palpite para letrab\n",
      "voce errou\n",
      "Escolha o palpite para letrab\n",
      "voce errou\n",
      "Escolha o palpite para letrab\n",
      "voce errou\n",
      "Escolha o palpite para letrab\n",
      "voce errou\n",
      "Escolha o palpite para letrab\n",
      "voce errou\n"
     ]
    }
   ],
   "source": [
    "import random\n",
    "contador_erros = 0\n",
    "dic_hangman = ['Bola','Gato','Nariz','Cafe']\n",
    "hangman_word = dic_hangman[random.randint(0,len(dic_hangman)-1)]\n",
    "word_game = ''.join(['_' for n in hangman_word])\n",
    "def substituidor(letra, string):\n",
    "    global word_game\n",
    "    index = string.index(letra)\n",
    "    word_game = word_game[:index] + letra + word_game[index + 1:]\n",
    "    return word_game\n",
    "\n",
    "while contador_erros <= 6:\n",
    "    palpite_letra = input('Escolha o palpite para letra')\n",
    "    if hangman_word.find(palpite_letra) >= 0:\n",
    "        print('voce acertou')\n",
    "        print(substituidor(palpite_letra,hangman_word))\n",
    "    elif hangman_word.find(palpite_letra) == -1:\n",
    "        contador_erros += 1\n",
    "        print('voce errou')"
   ]
  }
 ],
 "metadata": {
  "kernelspec": {
   "display_name": "Python 3 (ipykernel)",
   "language": "python",
   "name": "python3"
  },
  "language_info": {
   "codemirror_mode": {
    "name": "ipython",
    "version": 3
   },
   "file_extension": ".py",
   "mimetype": "text/x-python",
   "name": "python",
   "nbconvert_exporter": "python",
   "pygments_lexer": "ipython3",
   "version": "3.9.12"
  },
  "toc": {
   "base_numbering": 1,
   "nav_menu": {},
   "number_sections": true,
   "sideBar": true,
   "skip_h1_title": false,
   "title_cell": "Table of Contents",
   "title_sidebar": "Contents",
   "toc_cell": false,
   "toc_position": {},
   "toc_section_display": true,
   "toc_window_display": false
  },
  "varInspector": {
   "cols": {
    "lenName": 16,
    "lenType": 16,
    "lenVar": 40
   },
   "kernels_config": {
    "python": {
     "delete_cmd_postfix": "",
     "delete_cmd_prefix": "del ",
     "library": "var_list.py",
     "varRefreshCmd": "print(var_dic_list())"
    },
    "r": {
     "delete_cmd_postfix": ") ",
     "delete_cmd_prefix": "rm(",
     "library": "var_list.r",
     "varRefreshCmd": "cat(var_dic_list()) "
    }
   },
   "types_to_exclude": [
    "module",
    "function",
    "builtin_function_or_method",
    "instance",
    "_Feature"
   ],
   "window_display": false
  }
 },
 "nbformat": 4,
 "nbformat_minor": 5
}

{
 "cells": [
  {
   "cell_type": "markdown",
   "id": "2db26b5c",
   "metadata": {},
   "source": [
    "Esse é o classico jogo da forca. \n",
    "Você tem 5 tentativas para acertar a palavra \n",
    "Boa sorte"
   ]
  },
  {
   "cell_type": "markdown",
   "id": "400e2013",
   "metadata": {},
   "source": [
    "Nessa primeira celula, foram importados as bibliotecas necessarias e criado as constantes que vão ser usadas durante o programa\n",
    "Imports:\n",
    "random - traz a bibiblioteca de aletorios para selecionar a palabra\n",
    "os - biblioteca para limpar o display do jogo\n",
    "Variaveis:\n",
    "contador_erros - Salva o numero de erros do jogador, usado no loop while para determinar o fim do jogo\n",
    "contador_acertos  Salva o numero de acertos, usado no loop while para determinar o fim do jogo \n",
    "dic_hangman - Dicionario de palavras que podem ser selecionados\n",
    "hangman_word = Seleciona a palavra dentro do dicionario de maneira randomica \n",
    "word_game = Cria a palavra que sera mostrada no display para o usuario\n",
    "lista_palpite = Cria a lista de palpites que sera dada para o usuario"
   ]
  },
  {
   "cell_type": "code",
   "execution_count": 65,
   "id": "fde1e64d",
   "metadata": {
    "ExecuteTime": {
     "end_time": "2022-08-15T14:05:52.258344Z",
     "start_time": "2022-08-15T14:05:52.244827Z"
    }
   },
   "outputs": [],
   "source": [
    "import random \n",
    "contador_erros = 0\n",
    "contador_acertos = 0\n",
    "with open('words_list.txt') as f:\n",
    "    dic_hangman = [word for line in f for word in line.split()]\n",
    "hangman_word = dic_hangman[random.randint(0,len(dic_hangman)-1)]\n",
    "hangman_word = hangman_word.lower()\n",
    "word_game = ''.join(['_' for n in hangman_word])\n",
    "lista_palpite = []"
   ]
  },
  {
   "cell_type": "markdown",
   "id": "ba53f2ad",
   "metadata": {},
   "source": [
    "Abaixo são definidas as funções necessarias para o funcionamento do jogo"
   ]
  },
  {
   "cell_type": "code",
   "execution_count": 66,
   "id": "64f0519a",
   "metadata": {
    "ExecuteTime": {
     "end_time": "2022-08-15T14:05:54.092514Z",
     "start_time": "2022-08-15T14:05:54.074994Z"
    }
   },
   "outputs": [],
   "source": [
    "def substituidor(letra, string):\n",
    "    '''Faz a substituição do palpite correto no lugar da palavra da forca\n",
    "    args: letra -  uma string com o palpiote dado pelo jogador\n",
    "          string - uma sting com palavra selecionada para o jogo da forca\n",
    "    return: uma string com a letra substituida no local correto\n",
    "    exemplo: substituidor('a', 'bola')\n",
    "            return '___a' '''\n",
    "    global word_game\n",
    "    for i in range(len(string)):\n",
    "        if string[i] == letra:\n",
    "            word_game = word_game[:i] + letra + word_game[i + 1:]\n",
    "    return word_game\n",
    "def checagem_input(letra):\n",
    "    ''' Checa o input do usuario quando dado o palpite\n",
    "    args: letra - uma string com o palpite dado pelo jogador\n",
    "    return : um erro caso alguma das condicoes for atendidas\n",
    "    exmplo: checagem_input('asd')\n",
    "        return erro'''\n",
    "    if len(letra) > 1:\n",
    "        raise \n",
    "    elif letra.isalpha() == False:\n",
    "        raise\n",
    "    if letra in lista_palpite:\n",
    "        raise\n",
    "    else:\n",
    "        lista_palpite.append(letra)\n",
    "def hangman_print(erro):\n",
    "    '''Cria o print dependendo do numero de erros\n",
    "    args: erro -  numero de erros cometidos pelo jogador\n",
    "    return : Um print referente ao numero de erros\n",
    "    exemplo: hangman_print(1)\n",
    "        print(\n",
    "            O\n",
    "            )'''\n",
    "    if erro == 1:\n",
    "        print('''\n",
    "            O\n",
    "            ''')\n",
    "    elif erro == 2:\n",
    "        print('''\n",
    "            O\n",
    "            |\n",
    "            |\n",
    "            ''')\n",
    "    elif erro ==3:\n",
    "        print('''\n",
    "           O\n",
    "          /|\\\\\n",
    "           |\n",
    "            ''')\n",
    "    elif erro == 4:\n",
    "         print('''\n",
    "           O\n",
    "          /|\\\\\n",
    "           |\n",
    "          / \\\\ ''')\n",
    "    elif erro == 5:\n",
    "         print('''\n",
    "           O\n",
    "        --------   \n",
    "          /|\\\\\n",
    "           |\n",
    "          / \\\\ ''')\n",
    "    "
   ]
  },
  {
   "cell_type": "markdown",
   "id": "2f324d3b",
   "metadata": {},
   "source": [
    "Finalmente aqui está o codigo para o funcionamento do jogo, dentro de um loop while\n",
    "\n",
    "Enquanto o numero de erros for menor que 5 ou o numero de acertos "
   ]
  },
  {
   "cell_type": "code",
   "execution_count": 67,
   "id": "0fe418a6",
   "metadata": {
    "ExecuteTime": {
     "end_time": "2022-08-15T14:06:06.969225Z",
     "start_time": "2022-08-15T14:05:57.175323Z"
    }
   },
   "outputs": [
    {
     "name": "stdout",
     "output_type": "stream",
     "text": [
      "Try a character,a\n",
      "Hit\n",
      "_a______\n",
      "Your guesses were:['a']\n",
      "Try a character,c\n",
      "Hit\n",
      "cac_____\n",
      "Your guesses were:['a', 'c']\n",
      "Try a character,h\n",
      "Hit\n",
      "cach____\n",
      "Your guesses were:['a', 'c', 'h']\n",
      "Try a character,o\n",
      "Hit\n",
      "cacho__o\n",
      "Your guesses were:['a', 'c', 'h', 'o']\n",
      "Try a character,r\n",
      "Hit\n",
      "cachorro\n",
      "Your guesses were:['a', 'c', 'h', 'o', 'r']\n",
      "You win\n"
     ]
    }
   ],
   "source": [
    "while contador_erros < 5 and word_game.count('_')>0:\n",
    "    palpite_letra = input('Try a character,')\n",
    "    palpite_letra = palpite_letra.lower()\n",
    "    try:\n",
    "        checagem_input(palpite_letra)\n",
    "    except:\n",
    "        if len(palpite_letra) > 1:\n",
    "            print('Try one character at a time')        \n",
    "        elif palpite_letra.isalpha() == False:\n",
    "           print('Try a valid character')\n",
    "        elif palpite_letra in lista_palpite:\n",
    "            print('You alredy try this character')\n",
    "            print(f'Your guesses were:{lista_palpite}')\n",
    "    else:\n",
    "        if hangman_word.find(palpite_letra) >= 0:\n",
    "            print('Hit')\n",
    "            print(substituidor(palpite_letra,hangman_word))\n",
    "            print(f'Your guesses were:{lista_palpite}')\n",
    "            hangman_print(contador_erros)\n",
    "            contador_acertos += 1\n",
    "        elif hangman_word.find(palpite_letra) == -1:\n",
    "            contador_erros += 1\n",
    "            print('Miss')\n",
    "            print(f'Your guesses were:{lista_palpite}')\n",
    "            hangman_print(contador_erros)\n",
    "if contador_erros <5:\n",
    "    lista_palpite.clear()\n",
    "    print('You win')\n",
    "else:\n",
    "    lista_palpite.clear()\n",
    "    print('You lose')\n",
    "    print(f'the word is, {hangman_word}')"
   ]
  },
  {
   "cell_type": "code",
   "execution_count": null,
   "id": "2a5f51cd",
   "metadata": {},
   "outputs": [],
   "source": []
  }
 ],
 "metadata": {
  "kernelspec": {
   "display_name": "Python 3 (ipykernel)",
   "language": "python",
   "name": "python3"
  },
  "language_info": {
   "codemirror_mode": {
    "name": "ipython",
    "version": 3
   },
   "file_extension": ".py",
   "mimetype": "text/x-python",
   "name": "python",
   "nbconvert_exporter": "python",
   "pygments_lexer": "ipython3",
   "version": "3.9.12"
  },
  "toc": {
   "base_numbering": 1,
   "nav_menu": {},
   "number_sections": true,
   "sideBar": true,
   "skip_h1_title": false,
   "title_cell": "Table of Contents",
   "title_sidebar": "Contents",
   "toc_cell": false,
   "toc_position": {},
   "toc_section_display": true,
   "toc_window_display": false
  },
  "varInspector": {
   "cols": {
    "lenName": 16,
    "lenType": 16,
    "lenVar": 40
   },
   "kernels_config": {
    "python": {
     "delete_cmd_postfix": "",
     "delete_cmd_prefix": "del ",
     "library": "var_list.py",
     "varRefreshCmd": "print(var_dic_list())"
    },
    "r": {
     "delete_cmd_postfix": ") ",
     "delete_cmd_prefix": "rm(",
     "library": "var_list.r",
     "varRefreshCmd": "cat(var_dic_list()) "
    }
   },
   "types_to_exclude": [
    "module",
    "function",
    "builtin_function_or_method",
    "instance",
    "_Feature"
   ],
   "window_display": false
  }
 },
 "nbformat": 4,
 "nbformat_minor": 5
}

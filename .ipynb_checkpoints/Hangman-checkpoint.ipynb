{
 "cells": [
  {
   "cell_type": "markdown",
   "id": "2db26b5c",
   "metadata": {},
   "source": [
    "Esse é o classico jogo da forca. \n",
    "Você tem 5 tentativas para acertar a palavra \n",
    "Boa sorte"
   ]
  },
  {
   "cell_type": "markdown",
   "id": "29074528",
   "metadata": {},
   "source": [
    "Nessa primeira celula, foram importados as bibliotecas necessarias e criado as constantes que vão ser usadas durante o programa\n",
    "Imports:\n",
    "random - traz a bibiblioteca de aletorios para selecionar a palabra\n",
    "os - biblioteca para limpar o display do jogo\n",
    "Variaveis:\n",
    "contador_erros - Salva o numero de erros do jogador, usado no loop while para determinar o fim do jogo\n",
    "contador_acertos  Salva o numero de acertos, usado no loop while para determinar o fim do jogo \n",
    "dic_hangman - Dicionario de palavras que podem ser selecionados\n",
    "hangman_word = Seleciona a palavra dentro do dicionario de maneira randomica \n",
    "word_game = Cria a palavra que sera mostrada no display para o usuario\n",
    "lista_palpite = Cria a lista de palpites que sera dada para o usuario"
   ]
  },
  {
   "cell_type": "code",
   "execution_count": 1,
   "id": "d6b79dfa",
   "metadata": {
    "ExecuteTime": {
     "end_time": "2022-08-15T12:31:43.766355Z",
     "start_time": "2022-08-15T12:31:43.753343Z"
    }
   },
   "outputs": [],
   "source": [
    "import random \n",
    "import os\n",
    "contador_erros = 0\n",
    "contador_acertos = 0\n",
    "dic_hangman = ['Bola','Gato','Nariz','Cafe']\n",
    "hangman_word = dic_hangman[random.randint(0,len(dic_hangman)-1)]\n",
    "hangman_word = hangman_word.lower()\n",
    "word_game = ''.join(['_' for n in hangman_word])\n",
    "lista_palpite = []"
   ]
  },
  {
   "cell_type": "markdown",
   "id": "affd7ce9",
   "metadata": {},
   "source": [
    "Abaixo são definidas as funções necessarias para o funcionamento do jogo"
   ]
  },
  {
   "cell_type": "code",
   "execution_count": 2,
   "id": "2662ad38",
   "metadata": {
    "ExecuteTime": {
     "end_time": "2022-08-15T12:31:45.924819Z",
     "start_time": "2022-08-15T12:31:45.915811Z"
    }
   },
   "outputs": [],
   "source": [
    "def substituidor(letra, string):\n",
    "    '''Faz a substituição do palpite correto no lugar da palavra da forca\n",
    "    args: letra -  uma string com o palpiote dado pelo jogador\n",
    "          string - uma sting com palavra selecionada para o jogo da forca\n",
    "    return: uma string com a letra substituida no local correto\n",
    "    exemplo: substituidor('a', 'bola')\n",
    "            return '___a' '''\n",
    "    global word_game\n",
    "    index = string.index(letra)\n",
    "    word_game = word_game[:index] + letra + word_game[index + 1:]\n",
    "    return word_game\n",
    "def checagem_input(letra):\n",
    "    ''' Checa o input do usuario quando dado o palpite\n",
    "    args: letra - uma string com o palpite dado pelo jogador\n",
    "    return : um erro caso alguma das condicoes for atendidas\n",
    "    exmplo: checagem_input('asd')\n",
    "        return erro'''\n",
    "    if len(letra) > 1:\n",
    "        raise \n",
    "    elif letra.isalpha() == False:\n",
    "        raise\n",
    "    if letra in lista_palpite:\n",
    "        raise\n",
    "    else:\n",
    "        lista_palpite.append(letra)\n"
   ]
  },
  {
   "cell_type": "markdown",
   "id": "963e1abe",
   "metadata": {},
   "source": [
    "Finalmente aqui está o codigo para o funcionamento do jogo, dentro de um loop while"
   ]
  },
  {
   "cell_type": "code",
   "execution_count": 3,
   "id": "0fe418a6",
   "metadata": {
    "ExecuteTime": {
     "end_time": "2022-08-15T12:32:21.780909Z",
     "start_time": "2022-08-15T12:31:49.654711Z"
    }
   },
   "outputs": [
    {
     "name": "stdout",
     "output_type": "stream",
     "text": [
      "Escolha o palpite para letraa\n",
      "voce acertou\n",
      "_a__\n",
      "Escolha o palpite para letrab\n",
      "voce errou\n",
      "Escolha o palpite para letrab\n",
      "Esse palpite ja foi dado\n",
      "Os palpites dados foram:['a', 'b']\n",
      "Escolha o palpite para letraq\n",
      "voce errou\n",
      "Escolha o palpite para letras\n",
      "voce errou\n",
      "Escolha o palpite para letraa\n",
      "Esse palpite ja foi dado\n",
      "Os palpites dados foram:['a', 'b', 'q', 's']\n",
      "Escolha o palpite para letrao\n",
      "voce acertou\n",
      "_a_o\n",
      "Escolha o palpite para letral\n",
      "voce errou\n",
      "Escolha o palpite para letrab\n",
      "Esse palpite ja foi dado\n",
      "Os palpites dados foram:['a', 'b', 'q', 's', 'o', 'l']\n",
      "Escolha o palpite para letrac\n",
      "voce errou\n",
      "Escolha o palpite para letrag\n",
      "voce acertou\n",
      "ga_o\n",
      "Escolha o palpite para letrat\n",
      "voce acertou\n",
      "gato\n",
      "Voce venceu\n"
     ]
    }
   ],
   "source": [
    "while contador_erros < 6 and contador_acertos <= len(hangman_word)-1:\n",
    "    palpite_letra = input('Escolha o palpite para letra')\n",
    "    palpite_letra = palpite_letra.lower()\n",
    "    try:\n",
    "        checagem_input(palpite_letra)\n",
    "    except:\n",
    "        if len(palpite_letra) > 1:\n",
    "            print('Tente 1 letra de cada vez')        \n",
    "        elif palpite_letra.isalpha() == False:\n",
    "           print('Tente 1 caracter valido')\n",
    "        elif palpite_letra in lista_palpite:\n",
    "            print('Esse palpite ja foi dado')\n",
    "            print(f'Os palpites dados foram:{lista_palpite}')\n",
    "    else:\n",
    "        if hangman_word.find(palpite_letra) >= 0:\n",
    "            print('voce acertou')\n",
    "            print(substituidor(palpite_letra,hangman_word))\n",
    "            contador_acertos += 1\n",
    "        elif hangman_word.find(palpite_letra) == -1:\n",
    "            contador_erros += 1\n",
    "            print('voce errou')\n",
    "if contador_erros <6:\n",
    "    lista_palpite.clear()\n",
    "    print('Voce venceu')\n",
    "else:\n",
    "    lista_palpite.clear()\n",
    "    print('Voce perdeu')"
   ]
  },
  {
   "cell_type": "code",
   "execution_count": null,
   "id": "2a5f51cd",
   "metadata": {},
   "outputs": [],
   "source": []
  }
 ],
 "metadata": {
  "kernelspec": {
   "display_name": "Python 3 (ipykernel)",
   "language": "python",
   "name": "python3"
  },
  "language_info": {
   "codemirror_mode": {
    "name": "ipython",
    "version": 3
   },
   "file_extension": ".py",
   "mimetype": "text/x-python",
   "name": "python",
   "nbconvert_exporter": "python",
   "pygments_lexer": "ipython3",
   "version": "3.9.12"
  },
  "toc": {
   "base_numbering": 1,
   "nav_menu": {},
   "number_sections": true,
   "sideBar": true,
   "skip_h1_title": false,
   "title_cell": "Table of Contents",
   "title_sidebar": "Contents",
   "toc_cell": false,
   "toc_position": {},
   "toc_section_display": true,
   "toc_window_display": false
  },
  "varInspector": {
   "cols": {
    "lenName": 16,
    "lenType": 16,
    "lenVar": 40
   },
   "kernels_config": {
    "python": {
     "delete_cmd_postfix": "",
     "delete_cmd_prefix": "del ",
     "library": "var_list.py",
     "varRefreshCmd": "print(var_dic_list())"
    },
    "r": {
     "delete_cmd_postfix": ") ",
     "delete_cmd_prefix": "rm(",
     "library": "var_list.r",
     "varRefreshCmd": "cat(var_dic_list()) "
    }
   },
   "types_to_exclude": [
    "module",
    "function",
    "builtin_function_or_method",
    "instance",
    "_Feature"
   ],
   "window_display": false
  }
 },
 "nbformat": 4,
 "nbformat_minor": 5
}

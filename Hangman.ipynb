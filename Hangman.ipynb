{
 "cells": [
  {
   "cell_type": "markdown",
   "id": "2db26b5c",
   "metadata": {},
   "source": [
    "Esse é o classico jogo da forca. \n",
    "Você tem 5 tentativas para acertar a palavra \n",
    "Boa sorte"
   ]
  },
  {
   "cell_type": "markdown",
   "id": "400e2013",
   "metadata": {},
   "source": [
    "Nessa primeira celula, foram importados as bibliotecas necessarias e criado as constantes que vão ser usadas durante o programa\n",
    "Imports:\n",
    "random - traz a bibiblioteca de aletorios para selecionar a palabra\n",
    "os - biblioteca para limpar o display do jogo\n",
    "Variaveis:\n",
    "contador_erros - Salva o numero de erros do jogador, usado no loop while para determinar o fim do jogo\n",
    "contador_acertos  Salva o numero de acertos, usado no loop while para determinar o fim do jogo \n",
    "dic_hangman - Dicionario de palavras que podem ser selecionados\n",
    "hangman_word = Seleciona a palavra dentro do dicionario de maneira randomica \n",
    "word_game = Cria a palavra que sera mostrada no display para o usuario\n",
    "lista_palpite = Cria a lista de palpites que sera dada para o usuario"
   ]
  },
  {
   "cell_type": "code",
   "execution_count": 5,
   "id": "fde1e64d",
   "metadata": {
    "ExecuteTime": {
     "end_time": "2022-08-15T13:22:33.496776Z",
     "start_time": "2022-08-15T13:22:33.490771Z"
    }
   },
   "outputs": [],
   "source": [
    "import random \n",
    "import os\n",
    "contador_erros = 0\n",
    "contador_acertos = 0\n",
    "with open('words_list.txt') as f:\n",
    "    dic_hangman = [word for line in f for word in line.split()]\n",
    "hangman_word = dic_hangman[random.randint(0,len(dic_hangman)-1)]\n",
    "hangman_word = hangman_word.lower()\n",
    "word_game = ''.join(['_' for n in hangman_word])\n",
    "lista_palpite = []"
   ]
  },
  {
   "cell_type": "markdown",
   "id": "ba53f2ad",
   "metadata": {},
   "source": [
    "Abaixo são definidas as funções necessarias para o funcionamento do jogo"
   ]
  },
  {
   "cell_type": "code",
   "execution_count": 6,
   "id": "64f0519a",
   "metadata": {
    "ExecuteTime": {
     "end_time": "2022-08-15T13:22:35.306925Z",
     "start_time": "2022-08-15T13:22:35.289909Z"
    }
   },
   "outputs": [],
   "source": [
    "def substituidor(letra, string):\n",
    "    '''Faz a substituição do palpite correto no lugar da palavra da forca\n",
    "    args: letra -  uma string com o palpiote dado pelo jogador\n",
    "          string - uma sting com palavra selecionada para o jogo da forca\n",
    "    return: uma string com a letra substituida no local correto\n",
    "    exemplo: substituidor('a', 'bola')\n",
    "            return '___a' '''\n",
    "    global word_game\n",
    "    for i in range(len(string)):\n",
    "        if string[i] == letra:\n",
    "            word_game = word_game[:i] + letra + word_game[i + 1:]\n",
    "    return word_game\n",
    "def checagem_input(letra):\n",
    "    ''' Checa o input do usuario quando dado o palpite\n",
    "    args: letra - uma string com o palpite dado pelo jogador\n",
    "    return : um erro caso alguma das condicoes for atendidas\n",
    "    exmplo: checagem_input('asd')\n",
    "        return erro'''\n",
    "    if len(letra) > 1:\n",
    "        raise \n",
    "    elif letra.isalpha() == False:\n",
    "        raise\n",
    "    if letra in lista_palpite:\n",
    "        raise\n",
    "    else:\n",
    "        lista_palpite.append(letra)\n"
   ]
  },
  {
   "cell_type": "markdown",
   "id": "2f324d3b",
   "metadata": {},
   "source": [
    "Finalmente aqui está o codigo para o funcionamento do jogo, dentro de um loop while"
   ]
  },
  {
   "cell_type": "code",
   "execution_count": 8,
   "id": "0fe418a6",
   "metadata": {
    "ExecuteTime": {
     "end_time": "2022-08-15T13:25:56.925240Z",
     "start_time": "2022-08-15T13:25:52.167911Z"
    }
   },
   "outputs": [
    {
     "name": "stdout",
     "output_type": "stream",
     "text": [
      "Choose a lettera\n",
      "You alredy try this character\n",
      "Your guesses were:['a']\n"
     ]
    },
    {
     "ename": "KeyboardInterrupt",
     "evalue": "Interrupted by user",
     "output_type": "error",
     "traceback": [
      "\u001b[1;31m---------------------------------------------------------------------------\u001b[0m",
      "\u001b[1;31mKeyboardInterrupt\u001b[0m                         Traceback (most recent call last)",
      "Input \u001b[1;32mIn [8]\u001b[0m, in \u001b[0;36m<cell line: 1>\u001b[1;34m()\u001b[0m\n\u001b[0;32m      1\u001b[0m \u001b[38;5;28;01mwhile\u001b[39;00m contador_erros \u001b[38;5;241m<\u001b[39m \u001b[38;5;241m6\u001b[39m \u001b[38;5;129;01mand\u001b[39;00m contador_acertos \u001b[38;5;241m<\u001b[39m\u001b[38;5;241m=\u001b[39m \u001b[38;5;28mlen\u001b[39m(hangman_word)\u001b[38;5;241m-\u001b[39m\u001b[38;5;241m1\u001b[39m:\n\u001b[1;32m----> 2\u001b[0m     palpite_letra \u001b[38;5;241m=\u001b[39m \u001b[38;5;28;43minput\u001b[39;49m\u001b[43m(\u001b[49m\u001b[38;5;124;43m'\u001b[39;49m\u001b[38;5;124;43mChoose a letter\u001b[39;49m\u001b[38;5;124;43m'\u001b[39;49m\u001b[43m)\u001b[49m\n\u001b[0;32m      3\u001b[0m     palpite_letra \u001b[38;5;241m=\u001b[39m palpite_letra\u001b[38;5;241m.\u001b[39mlower()\n\u001b[0;32m      4\u001b[0m     \u001b[38;5;28;01mtry\u001b[39;00m:\n",
      "File \u001b[1;32m~\\anaconda3\\lib\\site-packages\\ipykernel\\kernelbase.py:1075\u001b[0m, in \u001b[0;36mKernel.raw_input\u001b[1;34m(self, prompt)\u001b[0m\n\u001b[0;32m   1071\u001b[0m \u001b[38;5;28;01mif\u001b[39;00m \u001b[38;5;129;01mnot\u001b[39;00m \u001b[38;5;28mself\u001b[39m\u001b[38;5;241m.\u001b[39m_allow_stdin:\n\u001b[0;32m   1072\u001b[0m     \u001b[38;5;28;01mraise\u001b[39;00m StdinNotImplementedError(\n\u001b[0;32m   1073\u001b[0m         \u001b[38;5;124m\"\u001b[39m\u001b[38;5;124mraw_input was called, but this frontend does not support input requests.\u001b[39m\u001b[38;5;124m\"\u001b[39m\n\u001b[0;32m   1074\u001b[0m     )\n\u001b[1;32m-> 1075\u001b[0m \u001b[38;5;28;01mreturn\u001b[39;00m \u001b[38;5;28;43mself\u001b[39;49m\u001b[38;5;241;43m.\u001b[39;49m\u001b[43m_input_request\u001b[49m\u001b[43m(\u001b[49m\n\u001b[0;32m   1076\u001b[0m \u001b[43m    \u001b[49m\u001b[38;5;28;43mstr\u001b[39;49m\u001b[43m(\u001b[49m\u001b[43mprompt\u001b[49m\u001b[43m)\u001b[49m\u001b[43m,\u001b[49m\n\u001b[0;32m   1077\u001b[0m \u001b[43m    \u001b[49m\u001b[38;5;28;43mself\u001b[39;49m\u001b[38;5;241;43m.\u001b[39;49m\u001b[43m_parent_ident\u001b[49m\u001b[43m[\u001b[49m\u001b[38;5;124;43m\"\u001b[39;49m\u001b[38;5;124;43mshell\u001b[39;49m\u001b[38;5;124;43m\"\u001b[39;49m\u001b[43m]\u001b[49m\u001b[43m,\u001b[49m\n\u001b[0;32m   1078\u001b[0m \u001b[43m    \u001b[49m\u001b[38;5;28;43mself\u001b[39;49m\u001b[38;5;241;43m.\u001b[39;49m\u001b[43mget_parent\u001b[49m\u001b[43m(\u001b[49m\u001b[38;5;124;43m\"\u001b[39;49m\u001b[38;5;124;43mshell\u001b[39;49m\u001b[38;5;124;43m\"\u001b[39;49m\u001b[43m)\u001b[49m\u001b[43m,\u001b[49m\n\u001b[0;32m   1079\u001b[0m \u001b[43m    \u001b[49m\u001b[43mpassword\u001b[49m\u001b[38;5;241;43m=\u001b[39;49m\u001b[38;5;28;43;01mFalse\u001b[39;49;00m\u001b[43m,\u001b[49m\n\u001b[0;32m   1080\u001b[0m \u001b[43m\u001b[49m\u001b[43m)\u001b[49m\n",
      "File \u001b[1;32m~\\anaconda3\\lib\\site-packages\\ipykernel\\kernelbase.py:1120\u001b[0m, in \u001b[0;36mKernel._input_request\u001b[1;34m(self, prompt, ident, parent, password)\u001b[0m\n\u001b[0;32m   1117\u001b[0m             \u001b[38;5;28;01mbreak\u001b[39;00m\n\u001b[0;32m   1118\u001b[0m \u001b[38;5;28;01mexcept\u001b[39;00m \u001b[38;5;167;01mKeyboardInterrupt\u001b[39;00m:\n\u001b[0;32m   1119\u001b[0m     \u001b[38;5;66;03m# re-raise KeyboardInterrupt, to truncate traceback\u001b[39;00m\n\u001b[1;32m-> 1120\u001b[0m     \u001b[38;5;28;01mraise\u001b[39;00m \u001b[38;5;167;01mKeyboardInterrupt\u001b[39;00m(\u001b[38;5;124m\"\u001b[39m\u001b[38;5;124mInterrupted by user\u001b[39m\u001b[38;5;124m\"\u001b[39m) \u001b[38;5;28;01mfrom\u001b[39;00m \u001b[38;5;28mNone\u001b[39m\n\u001b[0;32m   1121\u001b[0m \u001b[38;5;28;01mexcept\u001b[39;00m \u001b[38;5;167;01mException\u001b[39;00m:\n\u001b[0;32m   1122\u001b[0m     \u001b[38;5;28mself\u001b[39m\u001b[38;5;241m.\u001b[39mlog\u001b[38;5;241m.\u001b[39mwarning(\u001b[38;5;124m\"\u001b[39m\u001b[38;5;124mInvalid Message:\u001b[39m\u001b[38;5;124m\"\u001b[39m, exc_info\u001b[38;5;241m=\u001b[39m\u001b[38;5;28;01mTrue\u001b[39;00m)\n",
      "\u001b[1;31mKeyboardInterrupt\u001b[0m: Interrupted by user"
     ]
    }
   ],
   "source": [
    "while contador_erros < 6 and contador_acertos <= len(hangman_word)-1:\n",
    "    palpite_letra = input('Choose a letter')\n",
    "    palpite_letra = palpite_letra.lower()\n",
    "    try:\n",
    "        checagem_input(palpite_letra)\n",
    "        print(dic_hangman)\n",
    "    except:\n",
    "        if len(palpite_letra) > 1:\n",
    "            print('Try one character at a time')        \n",
    "        elif palpite_letra.isalpha() == False:\n",
    "           print('Try a valid character')\n",
    "        elif palpite_letra in lista_palpite:\n",
    "            print('You alredy try this character')\n",
    "            print(f'Your guesses were:{lista_palpite}')\n",
    "    else:\n",
    "        if hangman_word.find(palpite_letra) >= 0:\n",
    "            print('Hit')\n",
    "            print(substituidor(palpite_letra,hangman_word))\n",
    "            contador_acertos += 1\n",
    "        elif hangman_word.find(palpite_letra) == -1:\n",
    "            contador_erros += 1\n",
    "            print('Miss')\n",
    "if contador_erros <6:\n",
    "    lista_palpite.clear()\n",
    "    print('You win')\n",
    "else:\n",
    "    lista_palpite.clear()\n",
    "    print('You lose')"
   ]
  },
  {
   "cell_type": "code",
   "execution_count": null,
   "id": "2a5f51cd",
   "metadata": {},
   "outputs": [],
   "source": []
  }
 ],
 "metadata": {
  "kernelspec": {
   "display_name": "Python 3 (ipykernel)",
   "language": "python",
   "name": "python3"
  },
  "language_info": {
   "codemirror_mode": {
    "name": "ipython",
    "version": 3
   },
   "file_extension": ".py",
   "mimetype": "text/x-python",
   "name": "python",
   "nbconvert_exporter": "python",
   "pygments_lexer": "ipython3",
   "version": "3.9.12"
  },
  "toc": {
   "base_numbering": 1,
   "nav_menu": {},
   "number_sections": true,
   "sideBar": true,
   "skip_h1_title": false,
   "title_cell": "Table of Contents",
   "title_sidebar": "Contents",
   "toc_cell": false,
   "toc_position": {},
   "toc_section_display": true,
   "toc_window_display": false
  },
  "varInspector": {
   "cols": {
    "lenName": 16,
    "lenType": 16,
    "lenVar": 40
   },
   "kernels_config": {
    "python": {
     "delete_cmd_postfix": "",
     "delete_cmd_prefix": "del ",
     "library": "var_list.py",
     "varRefreshCmd": "print(var_dic_list())"
    },
    "r": {
     "delete_cmd_postfix": ") ",
     "delete_cmd_prefix": "rm(",
     "library": "var_list.r",
     "varRefreshCmd": "cat(var_dic_list()) "
    }
   },
   "types_to_exclude": [
    "module",
    "function",
    "builtin_function_or_method",
    "instance",
    "_Feature"
   ],
   "window_display": false
  }
 },
 "nbformat": 4,
 "nbformat_minor": 5
}

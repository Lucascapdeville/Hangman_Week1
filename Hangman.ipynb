{
 "cells": [
  {
   "cell_type": "markdown",
   "id": "da4c4699",
   "metadata": {},
   "source": [
    "##Pseudo Code\n",
    "Criar Dicionario de palavras\n",
    "Gerar uma palavra(string)\n",
    "Pedir um input de letra\n",
    "Checar se a letra está presente (regex?)\n",
    "Caso acerta retorna adicione a letra ao string modificado (___A___)\n",
    "Caso erre adicionar um contador\n",
    "Se contador chegar em 5\n",
    "Perdeu o jogo\n",
    "Se completar a sting\n",
    "Ganhou o jogo\n",
    "\n",
    "Complemento\n",
    "Adicionar Dicionario aurelio\n",
    "Jogadores\n",
    "Idioma\n",
    "PvP\n",
    "Verificar se a palavra existe\n",
    "Múltiplos round com pontuação"
   ]
  },
  {
   "cell_type": "markdown",
   "id": "2db26b5c",
   "metadata": {},
   "source": [
    "Fortalecendo o codigo e melhorando o display para o usuario "
   ]
  },
  {
   "cell_type": "code",
   "execution_count": 74,
   "id": "0fe418a6",
   "metadata": {
    "ExecuteTime": {
     "end_time": "2022-08-13T14:23:54.359554Z",
     "start_time": "2022-08-13T14:23:40.801231Z"
    }
   },
   "outputs": [
    {
     "name": "stdout",
     "output_type": "stream",
     "text": [
      "Escolha o palpite para letraa\n",
      "voce acertou\n",
      "_a___\n",
      "Escolha o palpite para letras\n",
      "voce errou\n",
      "Escolha o palpite para letraa\n",
      "Esse palpite ja foi dado\n",
      "Deu beyblade\n",
      "Escolha o palpite para letrav\n",
      "voce errou\n",
      "Escolha o palpite para letraa\n",
      "Esse palpite ja foi dado\n",
      "Deu beyblade\n",
      "Escolha o palpite para letraz\n",
      "voce acertou\n",
      "_a__z\n",
      "Escolha o palpite para letraq\n",
      "voce errou\n",
      "Escolha o palpite para letrat\n",
      "voce errou\n",
      "Escolha o palpite para letrai\n",
      "voce acertou\n",
      "_a_iz\n",
      "Escolha o palpite para letran\n",
      "voce acertou\n",
      "na_iz\n",
      "Escolha o palpite para letrar\n",
      "voce acertou\n",
      "nariz\n",
      "Voce venceu\n"
     ]
    }
   ],
   "source": [
    "import random\n",
    "contador_erros = 0\n",
    "contador_acertos = 0\n",
    "dic_hangman = ['Bola','Gato','Nariz','Cafe']\n",
    "hangman_word = dic_hangman[random.randint(0,len(dic_hangman)-1)]\n",
    "hangman_word = hangman_word.lower()\n",
    "word_game = ''.join(['_' for n in hangman_word])\n",
    "lista_palpite = []\n",
    "def substituidor(letra, string):\n",
    "    global word_game\n",
    "    index = string.index(letra)\n",
    "    word_game = word_game[:index] + letra + word_game[index + 1:]\n",
    "    return word_game\n",
    "def checagem_input(letra):\n",
    "    if len(letra) > 1:\n",
    "        raise \n",
    "    elif letra.isalpha() == False:\n",
    "        raise\n",
    "def letra_repetida(letra):\n",
    "    if letra in lista_palpite:\n",
    "        raise\n",
    "    else:\n",
    "        lista_palpite.append(letra)\n",
    "        return lista_letra\n",
    "\n",
    "    \n",
    "while contador_erros < 6 and contador_acertos <= len(hangman_word)-1:\n",
    "    palpite_letra = input('Escolha o palpite para letra')\n",
    "    palpite_letra = palpite_letra.lower()\n",
    "    try:\n",
    "        checagem_input(palpite_letra)\n",
    "        letra_repetida(palpite_letra)\n",
    "    except:\n",
    "        if len(palpite_letra) > 1:\n",
    "            print('Tente 1 letra de cada vez')        \n",
    "        elif palpite_letra.isalpha() == False:\n",
    "           print('Tente 1 caracter valido')\n",
    "        elif palpite_letra in lista_palpite:\n",
    "            print('Esse palpite ja foi dado')\n",
    "        print('Deu beyblade')\n",
    "    else:\n",
    "        if hangman_word.find(palpite_letra) >= 0:\n",
    "            print('voce acertou')\n",
    "            print(substituidor(palpite_letra,hangman_word))\n",
    "            contador_acertos += 1\n",
    "        elif hangman_word.find(palpite_letra) == -1:\n",
    "            contador_erros += 1\n",
    "            print('voce errou')\n",
    "if contador_erros <6:\n",
    "    lista_palpite.clear()\n",
    "    print('Voce venceu')\n",
    "else:\n",
    "    lista_palpite.clear()\n",
    "    print('Voce perdeu')"
   ]
  },
  {
   "cell_type": "code",
   "execution_count": null,
   "id": "2a5f51cd",
   "metadata": {},
   "outputs": [],
   "source": []
  }
 ],
 "metadata": {
  "kernelspec": {
   "display_name": "Python 3 (ipykernel)",
   "language": "python",
   "name": "python3"
  },
  "language_info": {
   "codemirror_mode": {
    "name": "ipython",
    "version": 3
   },
   "file_extension": ".py",
   "mimetype": "text/x-python",
   "name": "python",
   "nbconvert_exporter": "python",
   "pygments_lexer": "ipython3",
   "version": "3.9.12"
  },
  "toc": {
   "base_numbering": 1,
   "nav_menu": {},
   "number_sections": true,
   "sideBar": true,
   "skip_h1_title": false,
   "title_cell": "Table of Contents",
   "title_sidebar": "Contents",
   "toc_cell": false,
   "toc_position": {},
   "toc_section_display": true,
   "toc_window_display": false
  },
  "varInspector": {
   "cols": {
    "lenName": 16,
    "lenType": 16,
    "lenVar": 40
   },
   "kernels_config": {
    "python": {
     "delete_cmd_postfix": "",
     "delete_cmd_prefix": "del ",
     "library": "var_list.py",
     "varRefreshCmd": "print(var_dic_list())"
    },
    "r": {
     "delete_cmd_postfix": ") ",
     "delete_cmd_prefix": "rm(",
     "library": "var_list.r",
     "varRefreshCmd": "cat(var_dic_list()) "
    }
   },
   "types_to_exclude": [
    "module",
    "function",
    "builtin_function_or_method",
    "instance",
    "_Feature"
   ],
   "window_display": false
  }
 },
 "nbformat": 4,
 "nbformat_minor": 5
}
